{
 "cells": [
  {
   "cell_type": "code",
   "execution_count": 2,
   "id": "52df3710-801f-4068-991e-0d206af5e2f2",
   "metadata": {},
   "outputs": [],
   "source": [
    "import os"
   ]
  },
  {
   "cell_type": "code",
   "execution_count": 3,
   "id": "6b15dac6-2898-48a3-a2f1-e10566f76f54",
   "metadata": {},
   "outputs": [
    {
     "data": {
      "text/plain": [
       "'/Users/shubhamlohakare/Documents/GitHub/endtoendML'"
      ]
     },
     "execution_count": 3,
     "metadata": {},
     "output_type": "execute_result"
    }
   ],
   "source": [
    "%pwd"
   ]
  },
  {
   "cell_type": "code",
   "execution_count": 3,
   "id": "e7a1fcc9-c177-47e6-8a40-756845a2eaaa",
   "metadata": {},
   "outputs": [
    {
     "ename": "SyntaxError",
     "evalue": "invalid syntax (456931096.py, line 1)",
     "output_type": "error",
     "traceback": [
      "\u001b[0;36m  Cell \u001b[0;32mIn[3], line 1\u001b[0;36m\u001b[0m\n\u001b[0;31m    pip3 install mlflow dagshub\u001b[0m\n\u001b[0m         ^\u001b[0m\n\u001b[0;31mSyntaxError\u001b[0m\u001b[0;31m:\u001b[0m invalid syntax\n"
     ]
    }
   ],
   "source": [
    "pip3 install mlflow dagshub"
   ]
  },
  {
   "cell_type": "code",
   "execution_count": 4,
   "id": "7f631901-c227-43f6-90bd-9847ad5c8029",
   "metadata": {},
   "outputs": [],
   "source": [
    "os.environ[\"MLFLOW_TRACKING_URI\"]=\"https://dagshub.com/shubham0108/endtoendML.mlflow\"\n",
    "os.environ[\"MLFLOW_TRACKING_USERNAME\"]=\"shubham0108\"\n",
    "os.environ[\"MLFLOW_TRACKING_PASSWORD\"]=\"b8f173ccaf5e22e417ce989ed4f7830af5714fec\""
   ]
  },
  {
   "cell_type": "code",
   "execution_count": null,
   "id": "8759074a-b6ad-4c6b-9988-82d99ce75382",
   "metadata": {},
   "outputs": [],
   "source": []
  }
 ],
 "metadata": {
  "kernelspec": {
   "display_name": "Python 3 (ipykernel)",
   "language": "python",
   "name": "python3"
  },
  "language_info": {
   "codemirror_mode": {
    "name": "ipython",
    "version": 3
   },
   "file_extension": ".py",
   "mimetype": "text/x-python",
   "name": "python",
   "nbconvert_exporter": "python",
   "pygments_lexer": "ipython3",
   "version": "3.11.4"
  }
 },
 "nbformat": 4,
 "nbformat_minor": 5
}
